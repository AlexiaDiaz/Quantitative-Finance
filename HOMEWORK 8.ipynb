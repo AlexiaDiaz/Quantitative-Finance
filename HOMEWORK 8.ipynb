{
 "cells": [
  {
   "cell_type": "markdown",
   "id": "79c30a1e",
   "metadata": {},
   "source": [
    "![image.png](attachment:image.png)\n",
    "\n",
    "## <center> Quantitative Finance S. 2022 <center/>\n",
    "## <center> Professor José Mario Zárate <center/>\n",
    "### <center> Homework 8 <center/>\n",
    "\n",
    "### <center> Díaz Verduzco Alexia Marisol IF720500 <center/>\n",
    "### <center> González Reyes Christian Eduardo IF721850 <center/>\n",
    "### <center> López Lazareno Diego Alberto IF722100 <center/>\n",
    "### <center> Romero Riggen Santiago IF715099 <center/>"
   ]
  },
  {
   "cell_type": "markdown",
   "id": "268cadaa",
   "metadata": {},
   "source": [
    "# GRIEGAS"
   ]
  },
  {
   "cell_type": "markdown",
   "id": "8fa500bf",
   "metadata": {},
   "source": [
    "## Delta"
   ]
  },
  {
   "cell_type": "markdown",
   "id": "bd9006db",
   "metadata": {},
   "source": [
    "## Gamma"
   ]
  },
  {
   "cell_type": "markdown",
   "id": "c530f9f4",
   "metadata": {},
   "source": [
    "## Rho $\\rho$\n",
    "\n",
    "$$V_t=S_t N(d_1)- Ke^{-r(T-t)}N(d_2)$$\n",
    "\n",
    "Se desea obtener la griega $\\rho $ que mide la sensibilidad al tipo de interés aplicable. $\\rho$ es la derivada de la función de valor con respecto al tipo de interés libre de riesgo (risk free rate)\n",
    "\n",
    "$$\\frac{\\partial V_t}{\\partial r} = S_t \\frac{\\partial N(d_1)}{\\partial d_1} \\frac{\\partial d_1}{\\partial r} - [\\frac{\\partial K e^{-r(T-t)}}{\\partial r} N(d_2) +\\frac{\\partial N(d_2)}{\\partial d_2} \\frac{\\partial d_2}{\\partial r} Ke^{-r(T-t)}] $$\n",
    "\n",
    "En este pundo ya no se puede derivar por lo que, comienzo a buscar propiedades de $\\frac{\\partial d_1}{\\partial r} y \\frac{\\partial d_2}{\\partial r}$\n",
    "$$d_1 =\\frac{ln(\\frac{S_t}{K})+ (r+\\frac{\\sigma^2}{2})(T-t)}{\\sigma \\sqrt{(T-t)}}$$\n",
    "$$d_2 =\\frac{ln(\\frac{S_t}{K})+ (r-\\frac{\\sigma^2}{2})(T-t)}{\\sigma \\sqrt{(T-t)}}$$\n",
    "\n",
    "$$d_1= \\frac{ln(\\frac{S_t}{K})}{\\sigma \\sqrt{(T-t))}}+\\frac{r(T-t)}{{\\sigma \\sqrt{(T-t)}}}+ \\frac{\\sigma^2(T-t)}{2\\sigma\\sqrt{(T-t)}}$$ \n",
    "\n",
    "$$d_2 = \\frac{ln(\\frac{S_t}{K})}{\\sigma \\sqrt{(T-t))}}-\\frac{r(T-t)}{{\\sigma \\sqrt{(T-t)}}}+ \\frac{\\sigma^2(T-t)}{2\\sigma\\sqrt{(T-t)}}$$ \n",
    "\n",
    "$$\\frac{\\partial d_1}{\\partial r} = 0 + \\frac{(T-t)}{\\sigma\\sqrt{(T-t)}}+0$$\n",
    "$$\\frac{\\partial d_2}{\\partial r} = 0 + \\frac{(T-t)}{\\sigma\\sqrt{(T-t)}}-0$$\n",
    "\n",
    "Por lo tanto, tenemos una *PROPIEDAD 3*:\n",
    "\n",
    "$$\\frac{\\partial d_1}{\\partial r} = \\frac{\\partial d_2}{\\partial r} $$\n",
    "\n",
    "Se aplica la propropiedad 3 y se obtiene un factor común\n",
    "\n",
    "$$\\frac{\\partial V_t}{\\partial r} = \\frac{\\partial d_1}{\\partial r} [S_t N'(d_1)-Ke^{-r(T-t)}N'(d_2)] + (T-t) Ke^{-r(T-t)} N(d_2)$$\n",
    "\n",
    "Por último, al aplicar la *PROPIEDAD 1*\n",
    "\n",
    "$$\\frac{\\partial V_t}{\\partial r} = (T-t) Ke^{-r(T-t)} N(d_2) = \\rho$$"
   ]
  },
  {
   "cell_type": "markdown",
   "id": "0e458258",
   "metadata": {},
   "source": [
    "## Vega $\\nu$\n",
    "\n",
    "$$V_t=S_t N(d_1)- Ke^{-r(T-t)}N(d_2)$$\n",
    "\n",
    "Se desea obtener la griega $\\nu$ (que en realidad no es una letra griega) pero mide la sensibilidad a la volatilidad $\\sigma$. Vega es la derivada de la función de valor con respecto a la volatilidad del subyacente\n",
    "\n",
    "$$\\frac{\\partial V_t}{\\partial \\sigma} = S_t \\frac{\\partial N(d_1)}{\\partial d_1} \\frac{\\partial d_1}{\\partial \\sigma} - Ke^{-r(T-t)} \\frac{\\partial N(d_2)}{\\partial d_2} \\frac{\\partial d_2}{\\partial \\sigma} $$\n",
    "\n",
    "Comienzo a buscar propiedades de $\\frac{\\partial d_1}{\\partial \\sigma} y \\frac{\\partial d_2}{\\partial \\sigma}$\n",
    "\n",
    "$$d_1 =\\frac{ln(\\frac{S_t}{K})+ (r+\\frac{\\sigma^2}{2})(T-t)}{\\sigma \\sqrt{(T-t)}}$$\n",
    "$$d_2 =\\frac{ln(\\frac{S_t}{K})+ (r-\\frac{\\sigma^2}{2})(T-t)}{\\sigma \\sqrt{(T-t)}}$$\n",
    "\n",
    "Se separan los términos para tener una mejor visualización de la derivadas parciales respecto $\\sigma$\n",
    "\n",
    "$$d_1= \\frac{ln(\\frac{S_t}{K})}{\\sigma \\sqrt{(T-t))}}+\\frac{r(T-t)}{{\\sigma \\sqrt{(T-t)}}}+ \\frac{\\sigma^2(T-t)}{2\\sigma\\sqrt{(T-t)}}$$ \n",
    "\n",
    "$$d_2 = \\frac{ln(\\frac{S_t}{K})}{\\sigma \\sqrt{(T-t))}}-\\frac{r(T-t)}{{\\sigma \\sqrt{(T-t)}}}+ \\frac{\\sigma^2(T-t)}{2\\sigma\\sqrt{(T-t)}}$$ \n",
    "\n",
    "\n",
    "$$\\frac{\\partial d_1}{\\partial \\sigma} = \\frac{-ln(\\frac{S_t}{K})}{\\sigma^2 \\sqrt{(T-t)}}-\\frac{r(T-t)}{{\\sigma^2 \\sqrt{(T-t)}}}+ \\frac{(T-t)}{2\\sqrt{(T-t)}}$$ \n",
    "\n",
    "$$\\frac{\\partial d_2}{\\partial \\sigma} = \\frac{-ln(\\frac{S_t}{K})}{\\sigma^2 \\sqrt{(T-t)}}-\\frac{r(T-t)}{{\\sigma^2 \\sqrt{(T-t)}}}- \\frac{(T-t)}{2\\sqrt{(T-t)}}$$ \n",
    "\n",
    "Se puede observar que no son iguales por lo que, es imposible obtener una propiedad con dichas derivadas parciales. Sin embargo, más adelante serán útiles. \n",
    "\n",
    "Recordando \n",
    "\n",
    "$$d_2 = d_1 -\\sigma \\sqrt{T-t}$$\n",
    "\n",
    "$$ \\frac{\\partial d_2}{\\partial \\sigma} = \\frac{\\partial d_1}{\\partial \\sigma} - \\frac{\\partial \\sigma\\sqrt{T-t}}{\\partial \\sigma}$$\n",
    "\n",
    "Se obitiene una *PROPIEDAD*\n",
    "$$ \\frac{\\partial d_2}{\\partial \\sigma} = \\frac{\\partial d_1}{\\partial \\sigma} - \\sqrt{T-t}$$\n",
    "\n",
    "Sustituyendo en $\\frac{\\partial V_t}{\\partial \\sigma}$ y aplicando propiedad\n",
    "\n",
    "$$\\frac{\\partial V_t}{\\partial \\sigma}=S_t N'(d_1) \\frac{\\partial d_1}{\\partial \\sigma} - Ke^{-r(T-t)} N'(d_2)(\\frac{\\partial d_1}{\\partial \\sigma}-\\sqrt(T-t))$$ \n",
    "\n",
    "Factor común \n",
    "\n",
    "$$\\frac{\\partial V_t}{\\partial \\sigma}= \\frac{\\partial d_1}{\\partial \\sigma} [S_t N'(d_1) - Ke^{-r(T-t)} N'(d_2)] +  Ke^{-r(T-t)} N'(d_2) \\sqrt{T-t}$$\n",
    "\n",
    "Finalmente al aplicar PROPIEDAD 1, se obtiene $\\nu$\n",
    "\n",
    "$$\\frac{\\partial V_t}{\\partial \\sigma}= Ke^{-r(T-t)} N'(d_2) \\sqrt{T-t} =\\nu $$"
   ]
  },
  {
   "cell_type": "markdown",
   "id": "88a2aa8c",
   "metadata": {},
   "source": [
    "## Theta"
   ]
  }
 ],
 "metadata": {
  "kernelspec": {
   "display_name": "Python 3 (ipykernel)",
   "language": "python",
   "name": "python3"
  },
  "language_info": {
   "codemirror_mode": {
    "name": "ipython",
    "version": 3
   },
   "file_extension": ".py",
   "mimetype": "text/x-python",
   "name": "python",
   "nbconvert_exporter": "python",
   "pygments_lexer": "ipython3",
   "version": "3.8.12"
  }
 },
 "nbformat": 4,
 "nbformat_minor": 5
}
