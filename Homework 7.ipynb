{
 "cells": [
  {
   "attachments": {
    "image.png": {
     "image/png": "[encoded data removed]"
    }
   },
   "cell_type": "markdown",
   "metadata": {},
   "source": [
    "![image.png](attachment:image.png)\n",
    "\n",
    "## <center> Quantitative Finance S. 2022 <center/>\n",
    "## <center> Professor José Mario Zárate <center/>\n",
    "### <center> Homework 7 <center/>\n",
    "\n",
    "### <center> Díaz Verduzco Alexia Marisol IF720500 <center/>\n",
    "### <center> González Reyes Christian Eduardo IF721850 <center/>\n",
    "### <center> López Lazareno Diego Alberto IF722100 <center/>\n",
    "### <center> Romero Riggen Santiago IF715099 <center/>\n"
   ]
  },
  {
   "cell_type": "markdown",
   "metadata": {},
   "source": [
    "## Homework 7\n"
   ]
  },
  {
   "cell_type": "markdown",
   "metadata": {},
   "source": [
    "### Opción de Compra: Activo o Nada\n",
    "\n",
    "A cotinuación se muestra la función de pago de una opción de compra activo o nada:\n",
    "\n",
    "$$ C^{AN}(S_T, T) = \\begin{cases}0, & S_T < K, \\\\ S_T, & S_T \\geq K \\end{cases} $$\n",
    "\n",
    "En esta apuesta se gana cuando el precio del activo supera el precio de ejercicio pactado.\n",
    "\n",
    "El precio justo del derivado está dado por la siguiente ecuación:\n",
    "\n",
    "$$ f_t(S_t, t) = e^{-r(T - t)} E[C^{AN}(S_T, T)] $$\n",
    "\n",
    "$$ f_t(S_t, t) = e^{-r(T - t)} \\space \\int_{-\\infty}^{\\infty} C^{AN}(S_T, T) \\space p(S_T) \\space dS_T $$\n",
    "\n",
    "Puede cambiarse la función de pago del derivado usando logaritmos para los condicionales, reescribiendo:\n",
    "\n",
    "$$ C^{AN}(S_T, T) = \\begin{cases}0, & In(S_T) < In(K), \\\\ S_T, & In(S_T) \\geq In(K) \\end{cases} $$\n",
    "\n",
    "Entonces la ecuación de precio justo quedaría de la siguiente forma:\n",
    "\n",
    "$$ f_t(S_t, t) = e^{-r(T - t)} \\space \\int_{-\\infty}^{\\infty} C^{AN}(S_T, T) \\space p(In(S_T)) \\space dIn(S_T) $$\n",
    "\n",
    "De igual forma establecemos que $x = In(S_T) \\sim N(\\mu, \\sigma^2)$\n",
    "\n",
    "Por lo que nuevamente podemos reescribir la función de pago:\n",
    "\n",
    "$$ f_t(S_t, t) = e^{-r(T - t)} \\space \\int_{-\\infty}^{\\infty} C^{AN}(S_T, T) \\space p(x) \\space dx $$\n",
    "\n",
    "$$ f_t(S_t, t) = e^{-r(T - t)} [\\space \\int_{-\\infty}^{In(K)} 0 \\space p(x) \\space dx + \\space \\int_{In(K)}^{\\infty} S_T \\space p(x) \\space dx] = e^{-r(T - t)} \\space \\int_{In(K)}^{\\infty} S_T \\space p(x) \\space dx $$\n",
    "\n",
    "Ahora sustituimos en $p(x)$ la distribución normal:\n",
    "\n",
    "$$ f_t = e^{-r(T - t)} \\space \\int_{In(K)}^{\\infty} e^x \\space \\frac{e^{\\frac{-1}{2} \\space (\\frac{x-\\mu}{\\sigma})^2}}{\\sqrt{2\\pi\\sigma^2}} \\space dx $$\n",
    "\n",
    "Por las propiedades del modelo derivado conocemos $\\mu$ y $\\sigma$, por lo que sustituimos sus valores en la ecuación del precio justo del derivado:\n",
    "\n",
    "$$ f_t = e^{-r(T - t)} \\space \\int_{In(K)}^{\\infty} e^x \\space \\frac{e^{\\frac{-1}{2} \\space (\\frac{x_i-In(S_t)-(r-\\frac{\\sigma^2}{2})(T-t)}{\\sigma \\sqrt{T-t}})^2}}{\\sqrt{2\\pi\\sigma^2(T-t)}} \\space dx $$\n",
    "\n",
    "A continuación se elabora un cambio de variable para llegar a la forma de la distribución normal estándar:\n",
    "\n",
    "**Cambio de variable**\n",
    "\n",
    "$$ y = \\frac{x_i-In(S_t)-(r-\\frac{\\sigma^2}{2})(T-t)}{\\sigma \\sqrt{T-t}} $$\n",
    "\n",
    "Diferencial:\n",
    "\n",
    "$$ \\frac{dy}{dx} = \\frac{1}{\\sigma \\sqrt{T-t}} $$\n",
    "$$ dx = dy \\space \\sigma \\sqrt{T-t} $$\n",
    "\n",
    "Límites de integración:\n",
    "\n",
    "$$ lim_{x_i\\to\\infty} = \\frac{\\infty-In(S_t)-(r-\\frac{\\sigma^2}{2})(T-t)}{\\sigma \\sqrt{T-t}} = \\infty $$\n",
    "\n",
    "$$ lim_{x_i\\to In(K)} = \\frac{In(K)-In(S_t)-(r-\\frac{\\sigma^2}{2})(T-t)}{\\sigma \\sqrt{T-t}} = -\\frac{In(\\frac{S_t}{K})+(r-\\frac{\\sigma^2}{2})(T-t)}{\\sigma \\sqrt{T-t}} = -d_2 $$\n",
    "\n",
    "Se reescribe la integral:\n",
    "\n",
    "$$ f_t = e^{-r(T - t)} \\space \\int_{-d_2}^{\\infty} e^x \\space \\frac{e^{\\frac{-1}{2} \\space y^2}}{\\sqrt{2\\pi\\sigma^2(T-t)}} \\space dy \\space \\sigma \\sqrt{T-t} = e^{-r(T - t)} \\space \\int_{-d_2}^{\\infty} e^x \\space \\frac{e^{\\frac{-1}{2} \\space y^2}}{\\sqrt{2\\pi}} \\space dy $$\n",
    "\n",
    "Se procede a poner $x$ en términos de $y$:\n",
    "\n",
    "**Cambio de variable**\n",
    "\n",
    "$$ x = y\\sigma \\sqrt{T-t} + In(S_t) + (r-\\frac{\\sigma^2}{2})(T-t) = y\\sigma \\sqrt{T-t} + In(S_t) -\\frac{\\sigma^2}{2}(T-t) + r(T-t) $$\n",
    "\n",
    "Se reescribe la integral:\n",
    "\n",
    "$$ f_t = e^{-r(T - t)} \\space \\int_{-d_2}^{\\infty} e^{y\\sigma \\sqrt{T-t} + In(S_t) -\\frac{\\sigma^2}{2}(T-t) + r(T-t)} \\space \\frac{e^{\\frac{-1}{2} \\space y^2}}{\\sqrt{2\\pi}} \\space dy $$\n",
    "\n",
    "Usando álgebra agrupamos términos para lograr factorizarlos:\n",
    "\n",
    "$$ f_t = \\frac{e^{-r(T - t)}}{\\sqrt{2 \\pi}} \\space \\int_{-d_2}^{\\infty} e^{\\frac{-1}{2} y^2 + \\space y\\sigma \\sqrt{T-t} + \\space In(S_t) - \\space \\frac{\\sigma^2}{2}(T-t) + \\space r(T-t)} \\space dy $$\n",
    "\n",
    "$$ f_t = \\frac{e^{-r(T - t) + In(S_t) + r(T-t)}}{\\sqrt{2 \\pi}} \\space \\int_{-d_2}^{\\infty} e^{\\frac{-1}{2} y^2 + \\space y\\sigma \\sqrt{T-t} - \\space \\frac{\\sigma^2}{2}(T-t)} \\space dy $$\n",
    "\n",
    "$$ f_t = \\frac{S_t}{\\sqrt{2\\pi}} \\space \\int_{-d_2}^{\\infty} e^{\\frac{-1}{2} (y - \\sigma \\sqrt{T-t})^2} \\space dy $$\n",
    "\n",
    "$$ f_t = \\frac{S_t}{\\sqrt{2\\pi}} \\space \\int_{-d_2}^{\\infty} e^{\\frac{-1}{2} (y - \\sigma \\sqrt{T-t})^2} \\space dy $$\n",
    "\n",
    "Se procede a elaborar el último cambio de variable para llegar a la forma estándar de la distribución normal:\n",
    "\n",
    "**Cambio de variable**\n",
    "\n",
    "$$ z = y - \\sigma \\sqrt{T-t} $$\n",
    "\n",
    "Diferencial:\n",
    "\n",
    "$$ dz = dy $$\n",
    "\n",
    "Límites de integración:\n",
    "\n",
    "$$ lim_{y\\to\\infty} = \\infty - \\sigma \\sqrt{T-t}  = \\infty $$\n",
    "\n",
    "$$ lim_{x_i\\to - d_2} = -d_2 - \\sigma \\sqrt{T-t} = -(d_2 + \\sigma \\sqrt{T-t}) = -d_1 $$\n",
    "\n",
    "Se reescribe la integral:\n",
    "\n",
    "$$ f_t = S_t \\space \\int_{-d_1}^{\\infty} \\frac{e^{\\frac{-1}{2} z^2}}{\\sqrt{2\\pi}} \\space dz $$\n",
    "\n",
    "Por la simetría de la normal podemos reescribir los límites de integración:\n",
    "\n",
    "$$ f_t = S_t \\space \\int_{-\\infty}^{d_1} \\frac{e^{\\frac{-1}{2} z^2}}{\\sqrt{2\\pi}} \\space dz $$\n",
    "\n",
    "Finalmente llegamos a que el precio justo del derivado se obtiene por la siguiente fórmula:\n",
    "\n",
    "$$ f_t = S_t N(d_1) $$\n",
    "\n",
    "+ Donde $N(d_1)$ es la distribución normal acumulada hasta $d_1$."
   ]
  },
  {
   "cell_type": "markdown",
   "metadata": {},
   "source": [
    "### Opción de Compra: Cash o Nada\n"
   ]
  },
  {
   "cell_type": "markdown",
   "metadata": {},
   "source": [
    "<br>"
   ]
  }
 ],
 "metadata": {
  "kernelspec": {
   "display_name": "Python 3",
   "language": "python",
   "name": "python3"
  },
  "language_info": {
   "codemirror_mode": {
    "name": "ipython",
    "version": 3
   },
   "file_extension": ".py",
   "mimetype": "text/x-python",
   "name": "python",
   "nbconvert_exporter": "python",
   "pygments_lexer": "ipython3",
   "version": "3.7.1"
  }
 },
 "nbformat": 4,
 "nbformat_minor": 2
}
